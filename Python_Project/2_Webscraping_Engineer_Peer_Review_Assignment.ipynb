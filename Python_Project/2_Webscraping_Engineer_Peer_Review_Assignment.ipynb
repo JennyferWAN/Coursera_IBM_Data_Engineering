{
 "cells": [
  {
   "cell_type": "markdown",
   "metadata": {},
   "source": [
    "<p style=\"text-align:center\">\n",
    "    <a href=\"https://skills.network/?utm_medium=Exinfluencer&utm_source=Exinfluencer&utm_content=000026UJ&utm_term=10006555&utm_id=NA-SkillsNetwork-Channel-SkillsNetworkCoursesIBMDeveloperSkillsNetworkPY0221ENSkillsNetwork23455645-2022-01-01\" target=\"_blank\">\n",
    "    <img src=\"https://cf-courses-data.s3.us.cloud-object-storage.appdomain.cloud/assets/logos/SN_web_lightmode.png\" width=\"200\" alt=\"Skills Network Logo\"  />\n",
    "    </a>\n",
    "</p>\n"
   ]
  },
  {
   "cell_type": "markdown",
   "metadata": {},
   "source": [
    "# Peer Review Assignment - Data Engineer - Webscraping\n"
   ]
  },
  {
   "cell_type": "markdown",
   "metadata": {},
   "source": [
    "Estimated time needed: **20** minutes\n"
   ]
  },
  {
   "cell_type": "markdown",
   "metadata": {},
   "source": [
    "## Objectives\n",
    "\n",
    "In this part you will:\n",
    "\n",
    "*   Use webscraping to get bank information\n"
   ]
  },
  {
   "cell_type": "markdown",
   "metadata": {},
   "source": [
    "For this lab, we are going to be using Python and several Python libraries. Some of these libraries might be installed in your lab environment or in SN Labs. Others may need to be installed by you. The cells below will install these libraries when executed.\n"
   ]
  },
  {
   "cell_type": "code",
   "execution_count": 1,
   "metadata": {},
   "outputs": [
    {
     "name": "stdout",
     "output_type": "stream",
     "text": [
      "\n",
      "                  __    __    __    __\n",
      "                 /  \\  /  \\  /  \\  /  \\\n",
      "                /    \\/    \\/    \\/    \\\n",
      "███████████████/  /██/  /██/  /██/  /████████████████████████\n",
      "              /  / \\   / \\   / \\   / \\  \\____\n",
      "             /  /   \\_/   \\_/   \\_/   \\    o \\__,\n",
      "            / _/                       \\_____/  `\n",
      "            |/\n",
      "        ███╗   ███╗ █████╗ ███╗   ███╗██████╗  █████╗\n",
      "        ████╗ ████║██╔══██╗████╗ ████║██╔══██╗██╔══██╗\n",
      "        ██╔████╔██║███████║██╔████╔██║██████╔╝███████║\n",
      "        ██║╚██╔╝██║██╔══██║██║╚██╔╝██║██╔══██╗██╔══██║\n",
      "        ██║ ╚═╝ ██║██║  ██║██║ ╚═╝ ██║██████╔╝██║  ██║\n",
      "        ╚═╝     ╚═╝╚═╝  ╚═╝╚═╝     ╚═╝╚═════╝ ╚═╝  ╚═╝\n",
      "\n",
      "        mamba (0.15.3) supported by @QuantStack\n",
      "\n",
      "        GitHub:  https://github.com/mamba-org/mamba\n",
      "        Twitter: https://twitter.com/QuantStack\n",
      "\n",
      "█████████████████████████████████████████████████████████████\n",
      "\n",
      "\n",
      "Looking for: ['bs4==4.10.0']\n",
      "\n",
      "pkgs/main/linux-64       [<=>                 ] (00m:00s) \n",
      "pkgs/main/linux-64       [=>                ] (00m:00s) 460 KB / ?? (1.48 MB/s)\n",
      "pkgs/main/linux-64       [=>                ] (00m:00s) 460 KB / ?? (1.48 MB/s)\n",
      "pkgs/main/noarch         [<=>                 ] (00m:00s) \n",
      "pkgs/main/linux-64       [=>                ] (00m:00s) 460 KB / ?? (1.48 MB/s)\n",
      "pkgs/main/noarch         [=>                ] (00m:00s) 448 KB / ?? (1.44 MB/s)\n",
      "pkgs/main/linux-64       [=>                ] (00m:00s) 460 KB / ?? (1.48 MB/s)\n",
      "pkgs/main/noarch         [=>                ] (00m:00s) 448 KB / ?? (1.44 MB/s)\n",
      "pkgs/r/linux-64          [<=>                 ] (00m:00s) \n",
      "pkgs/main/linux-64       [=>                ] (00m:00s) 460 KB / ?? (1.48 MB/s)\n",
      "pkgs/main/noarch         [=>                ] (00m:00s) 448 KB / ?? (1.44 MB/s)\n",
      "pkgs/r/linux-64          [=>                ] (00m:00s) 460 KB / ?? (1.48 MB/s)\n",
      "pkgs/main/linux-64       [=>                ] (00m:00s) 460 KB / ?? (1.48 MB/s)\n",
      "pkgs/main/noarch         [=>                ] (00m:00s) 448 KB / ?? (1.44 MB/s)\n",
      "pkgs/r/linux-64          [=>                ] (00m:00s) 460 KB / ?? (1.48 MB/s)\n",
      "pkgs/r/noarch            [<=>                 ] (00m:00s) \n",
      "pkgs/main/linux-64       [=>                ] (00m:00s) 460 KB / ?? (1.48 MB/s)\n",
      "pkgs/main/noarch         [=>                ] (00m:00s) 448 KB / ?? (1.44 MB/s)\n",
      "pkgs/r/linux-64          [=>                ] (00m:00s) 460 KB / ?? (1.48 MB/s)\n",
      "pkgs/r/noarch            [=>                ] (00m:00s) 440 KB / ?? (1.42 MB/s)\n",
      "pkgs/main/linux-64       [=>                ] (00m:00s) 460 KB / ?? (1.48 MB/s)\n",
      "pkgs/main/noarch         [<=>                 ] (00m:00s) Finalizing...\n",
      "pkgs/r/linux-64          [=>                ] (00m:00s) 460 KB / ?? (1.48 MB/s)\n",
      "pkgs/r/noarch            [=>                ] (00m:00s) 440 KB / ?? (1.42 MB/s)\n",
      "pkgs/main/linux-64       [=>                ] (00m:00s) 460 KB / ?? (1.48 MB/s)\n",
      "pkgs/main/noarch         [<=>                 ] (00m:00s) Done\n",
      "pkgs/r/linux-64          [=>                ] (00m:00s) 460 KB / ?? (1.48 MB/s)\n",
      "pkgs/r/noarch            [=>                ] (00m:00s) 440 KB / ?? (1.42 MB/s)\n",
      "pkgs/main/noarch         [====================] (00m:00s) Done\n",
      "pkgs/main/linux-64       [=>                ] (00m:00s) 460 KB / ?? (1.48 MB/s)\n",
      "pkgs/r/linux-64          [=>                ] (00m:00s) 460 KB / ?? (1.48 MB/s)\n",
      "pkgs/r/noarch            [=>                ] (00m:00s) 440 KB / ?? (1.42 MB/s)\n",
      "pkgs/main/linux-64       [=>                ] (00m:00s) 460 KB / ?? (1.48 MB/s)\n",
      "pkgs/r/linux-64          [=>                ] (00m:00s) 460 KB / ?? (1.48 MB/s)\n",
      "pkgs/r/noarch            [<=>                 ] (00m:00s) Finalizing...\n",
      "pkgs/main/linux-64       [=>                ] (00m:00s) 460 KB / ?? (1.48 MB/s)\n",
      "pkgs/r/linux-64          [=>                ] (00m:00s) 460 KB / ?? (1.48 MB/s)\n",
      "pkgs/r/noarch            [<=>                 ] (00m:00s) Done\n",
      "pkgs/r/noarch            [====================] (00m:00s) Done\n",
      "pkgs/main/linux-64       [=>                ] (00m:00s) 460 KB / ?? (1.48 MB/s)\n",
      "pkgs/r/linux-64          [=>                ] (00m:00s) 460 KB / ?? (1.48 MB/s)\n",
      "pkgs/main/linux-64       [<=>               ] (00m:00s) 460 KB / ?? (1.48 MB/s)\n",
      "pkgs/r/linux-64          [=>                ] (00m:00s) 460 KB / ?? (1.48 MB/s)\n",
      "pkgs/main/linux-64       [ <=>                ] (00m:00s) 1 MB / ?? (2.77 MB/s)\n",
      "pkgs/r/linux-64          [=>                ] (00m:00s) 460 KB / ?? (1.48 MB/s)\n",
      "pkgs/main/linux-64       [ <=>                ] (00m:00s) 1 MB / ?? (2.77 MB/s)\n",
      "pkgs/r/linux-64          [<=>               ] (00m:00s) 460 KB / ?? (1.48 MB/s)\n",
      "pkgs/main/linux-64       [ <=>                ] (00m:00s) 1 MB / ?? (2.77 MB/s)\n",
      "pkgs/r/linux-64          [ <=>                ] (00m:00s) 1 MB / ?? (2.29 MB/s)\n",
      "pkgs/main/linux-64       [ <=>                ] (00m:00s) 1 MB / ?? (2.77 MB/s)\n",
      "pkgs/r/linux-64          [ <=>                ] (00m:00s) Finalizing...\n",
      "pkgs/main/linux-64       [ <=>                ] (00m:00s) 1 MB / ?? (2.77 MB/s)\n",
      "pkgs/r/linux-64          [ <=>                ] (00m:00s) Done\n",
      "pkgs/r/linux-64          [====================] (00m:00s) Done\n",
      "pkgs/main/linux-64       [ <=>                ] (00m:00s) 1 MB / ?? (2.77 MB/s)\n",
      "pkgs/main/linux-64       [  <=>               ] (00m:00s) 1 MB / ?? (2.77 MB/s)\n",
      "pkgs/main/linux-64       [  <=>               ] (00m:00s) 2 MB / ?? (3.81 MB/s)\n",
      "pkgs/main/linux-64       [   <=>              ] (00m:00s) 2 MB / ?? (3.81 MB/s)\n",
      "pkgs/main/linux-64       [   <=>              ] (00m:00s) 3 MB / ?? (4.07 MB/s)\n",
      "pkgs/main/linux-64       [    <=>             ] (00m:00s) 3 MB / ?? (4.07 MB/s)\n",
      "pkgs/main/linux-64       [    <=>             ] (00m:00s) 4 MB / ?? (4.30 MB/s)\n",
      "pkgs/main/linux-64       [    <=>             ] (00m:00s) Finalizing...\n",
      "pkgs/main/linux-64       [    <=>             ] (00m:00s) Done\n",
      "pkgs/main/linux-64       [====================] (00m:00s) Done\n",
      "\n",
      "Pinned packages:\n",
      "  - python 3.7.*\n",
      "\n",
      "\n",
      "Transaction\n",
      "\n",
      "  Prefix: /home/jupyterlab/conda/envs/python\n",
      "\n",
      "  Updating specs:\n",
      "\n",
      "   - bs4==4.10.0\n",
      "   - ca-certificates\n",
      "   - certifi\n",
      "   - openssl\n",
      "\n",
      "\n",
      "  Package             Version  Build           Channel                  Size\n",
      "──────────────────────────────────────────────────────────────────────────────\n",
      "  Install:\n",
      "──────────────────────────────────────────────────────────────────────────────\n",
      "\n",
      "\u001b[32m  + bs4           \u001b[00m     4.10.0  hd3eb1b0_0      pkgs/main/noarch        10 KB\n",
      "\n",
      "  Change:\n",
      "──────────────────────────────────────────────────────────────────────────────\n",
      "\n",
      "\u001b[31m  - certifi       \u001b[00m  2022.6.15  py37h89c1867_0  installed                    \n",
      "\u001b[32m  + certifi       \u001b[00m  2022.6.15  py37h06a4308_0  pkgs/main/linux-64     153 KB\n",
      "\n",
      "  Upgrade:\n",
      "──────────────────────────────────────────────────────────────────────────────\n",
      "\n",
      "\u001b[31m  - openssl       \u001b[00m     1.1.1p  h166bdaf_0      installed                    \n",
      "\u001b[32m  + openssl       \u001b[00m     1.1.1q  h7f8727e_0      pkgs/main/linux-64       3 MB\n",
      "\n",
      "  Downgrade:\n",
      "──────────────────────────────────────────────────────────────────────────────\n",
      "\n",
      "\u001b[31m  - beautifulsoup4\u001b[00m     4.11.1  pyha770c72_0    installed                    \n",
      "\u001b[32m  + beautifulsoup4\u001b[00m     4.10.0  pyh06a4308_0    pkgs/main/noarch        85 KB\n",
      "\n",
      "  Summary:\n",
      "\n",
      "  Install: 1 packages\n",
      "  Change: 1 packages\n",
      "  Upgrade: 1 packages\n",
      "  Downgrade: 1 packages\n",
      "\n",
      "  Total download: 3 MB\n",
      "\n",
      "──────────────────────────────────────────────────────────────────────────────\n",
      "\n",
      "Downloading  [>                                        ] (00m:00s)   65.40 KB/s\n",
      "Extracting   [>                                                      ] (--:--) \n",
      "\u001b[2A\u001b[0KFinished bs4                                  (00m:00s)              10 KB     65 KB/s\n",
      "Downloading  [>                                        ] (00m:00s)   65.40 KB/s\n",
      "Extracting   [>                                                      ] (--:--) \n",
      "Downloading  [>                                        ] (00m:00s)   65.40 KB/s\n",
      "Extracting   [>                                                      ] (--:--) \n",
      "Downloading  [>                                        ] (00m:00s)   65.40 KB/s\n",
      "Extracting   [>                                                      ] (--:--) \n",
      "Downloading  [>                                        ] (00m:00s)   65.40 KB/s\n",
      "Extracting   [==========>                              ] (00m:00s)        1 / 4\n",
      "Downloading  [=>                                       ] (00m:00s)  552.82 KB/s\n",
      "Extracting   [==========>                              ] (00m:00s)        1 / 4\n",
      "\u001b[2A\u001b[0KFinished beautifulsoup4                       (00m:00s)              85 KB    492 KB/s\n",
      "Downloading  [=>                                       ] (00m:00s)  552.82 KB/s\n",
      "Extracting   [==========>                              ] (00m:00s)        1 / 4\n",
      "Downloading  [=>                                       ] (00m:00s)  552.82 KB/s\n",
      "Extracting   [==========>                              ] (00m:00s)        1 / 4\n",
      "Downloading  [=>                                       ] (00m:00s)  552.82 KB/s\n",
      "Extracting   [==========>                              ] (00m:00s)        1 / 4\n",
      "Downloading  [===>                                     ] (00m:00s)    1.36 MB/s\n",
      "Extracting   [==========>                              ] (00m:00s)        1 / 4\n",
      "Downloading  [===>                                     ] (00m:00s)    1.36 MB/s\n",
      "Extracting   [====================>                    ] (00m:00s)        2 / 4\n",
      "\u001b[2A\u001b[0KFinished certifi                              (00m:00s)             153 KB    861 KB/s\n",
      "Downloading  [===>                                     ] (00m:00s)    1.36 MB/s\n",
      "Extracting   [====================>                    ] (00m:00s)        2 / 4\n",
      "Downloading  [===>                                     ] (00m:00s)    1.36 MB/s\n",
      "Extracting   [====================>                    ] (00m:00s)        2 / 4\n",
      "Downloading  [===>                                     ] (00m:00s)    1.36 MB/s\n",
      "Extracting   [====================>                    ] (00m:00s)        2 / 4\n",
      "Downloading  [===>                                     ] (00m:00s)    1.36 MB/s\n",
      "Extracting   [==============================>          ] (00m:00s)        3 / 4\n",
      "Downloading  [=========================================] (00m:00s)   13.44 MB/s\n",
      "Extracting   [==============================>          ] (00m:00s)        3 / 4\n",
      "\u001b[2A\u001b[0KFinished openssl                              (00m:00s)               3 MB     12 MB/s\n",
      "Downloading  [=========================================] (00m:00s)   13.44 MB/s\n",
      "Extracting   [==============================>          ] (00m:00s)        3 / 4\n",
      "Downloading  [=========================================] (00m:00s)   13.44 MB/s\n",
      "Extracting   [==============================>          ] (00m:00s)        3 / 4\n",
      "Downloading  [=========================================] (00m:00s)   13.44 MB/s\n",
      "Extracting   [==============================>          ] (00m:00s)        3 / 4\n",
      "Downloading  [=========================================] (00m:00s)   13.44 MB/s\n",
      "Extracting   [=========================================] (00m:00s)        4 / 4\n",
      "Preparing transaction: done\n",
      "Verifying transaction: done\n",
      "Executing transaction: done\n",
      "\n",
      "                  __    __    __    __\n",
      "                 /  \\  /  \\  /  \\  /  \\\n",
      "                /    \\/    \\/    \\/    \\\n",
      "███████████████/  /██/  /██/  /██/  /████████████████████████\n",
      "              /  / \\   / \\   / \\   / \\  \\____\n",
      "             /  /   \\_/   \\_/   \\_/   \\    o \\__,\n",
      "            / _/                       \\_____/  `\n",
      "            |/\n",
      "        ███╗   ███╗ █████╗ ███╗   ███╗██████╗  █████╗\n",
      "        ████╗ ████║██╔══██╗████╗ ████║██╔══██╗██╔══██╗\n",
      "        ██╔████╔██║███████║██╔████╔██║██████╔╝███████║\n",
      "        ██║╚██╔╝██║██╔══██║██║╚██╔╝██║██╔══██╗██╔══██║\n",
      "        ██║ ╚═╝ ██║██║  ██║██║ ╚═╝ ██║██████╔╝██║  ██║\n",
      "        ╚═╝     ╚═╝╚═╝  ╚═╝╚═╝     ╚═╝╚═════╝ ╚═╝  ╚═╝\n",
      "\n",
      "        mamba (0.15.3) supported by @QuantStack\n",
      "\n",
      "        GitHub:  https://github.com/mamba-org/mamba\n",
      "        Twitter: https://twitter.com/QuantStack\n",
      "\n",
      "█████████████████████████████████████████████████████████████\n",
      "\n",
      "\n",
      "Looking for: ['html5lib==1.1']\n",
      "\n",
      "pkgs/main/linux-64       Using cache\n",
      "pkgs/main/noarch         Using cache\n",
      "pkgs/r/linux-64          Using cache\n",
      "pkgs/r/noarch            Using cache\n",
      "\n",
      "Pinned packages:\n",
      "  - python 3.7.*\n",
      "\n",
      "\n",
      "Transaction\n",
      "\n",
      "  Prefix: /home/jupyterlab/conda/envs/python\n",
      "\n",
      "  Updating specs:\n",
      "\n",
      "   - html5lib==1.1\n",
      "   - ca-certificates\n",
      "   - certifi\n",
      "   - openssl\n",
      "\n",
      "\n",
      "  Package         Version  Build         Channel                 Size\n",
      "───────────────────────────────────────────────────────────────────────\n",
      "  Install:\n",
      "───────────────────────────────────────────────────────────────────────\n",
      "\n",
      "\u001b[32m  + html5lib    \u001b[00m      1.1  pyhd3eb1b0_0  pkgs/main/noarch       91 KB\n",
      "\u001b[32m  + webencodings\u001b[00m    0.5.1  py37_1        pkgs/main/linux-64     19 KB\n",
      "\n",
      "  Summary:\n",
      "\n",
      "  Install: 2 packages\n",
      "\n",
      "  Total download: 110 KB\n",
      "\n",
      "───────────────────────────────────────────────────────────────────────\n",
      "\n",
      "Downloading  [======>                                  ] (00m:00s)  131.69 KB/s\n",
      "Extracting   [>                                                      ] (--:--) \n",
      "\u001b[2A\u001b[0KFinished webencodings                         (00m:00s)              19 KB    131 KB/s\n",
      "Downloading  [======>                                  ] (00m:00s)  131.69 KB/s\n",
      "Extracting   [>                                                      ] (--:--) \n",
      "Downloading  [======>                                  ] (00m:00s)  131.69 KB/s\n",
      "Extracting   [>                                                      ] (--:--) \n",
      "Downloading  [======>                                  ] (00m:00s)  131.69 KB/s\n",
      "Extracting   [>                                                      ] (--:--) \n",
      "Downloading  [======>                                  ] (00m:00s)  131.69 KB/s\n",
      "Extracting   [====================>                    ] (00m:00s)        1 / 2\n",
      "Downloading  [======>                                  ] (00m:00s)  121.21 KB/s\n",
      "Extracting   [====================>                    ] (00m:00s)        1 / 2\n",
      "Downloading  [======>                                  ] (00m:00s)  121.21 KB/s\n",
      "Extracting   [====================>                    ] (00m:00s)        1 / 2\n",
      "Downloading  [=========================================] (00m:00s)  654.27 KB/s\n",
      "Extracting   [====================>                    ] (00m:00s)        1 / 2\n",
      "\u001b[2A\u001b[0KFinished html5lib                             (00m:00s)              91 KB    539 KB/s\n",
      "Downloading  [=========================================] (00m:00s)  654.27 KB/s\n",
      "Extracting   [====================>                    ] (00m:00s)        1 / 2\n",
      "Downloading  [=========================================] (00m:00s)  654.27 KB/s\n",
      "Extracting   [====================>                    ] (00m:00s)        1 / 2\n",
      "Downloading  [=========================================] (00m:00s)  654.27 KB/s\n",
      "Extracting   [====================>                    ] (00m:00s)        1 / 2\n",
      "Downloading  [=========================================] (00m:00s)  654.27 KB/s\n",
      "Extracting   [=========================================] (00m:00s)        2 / 2\n",
      "Preparing transaction: done\n",
      "Verifying transaction: done\n",
      "Executing transaction: done\n"
     ]
    }
   ],
   "source": [
    "#!mamba install pandas==1.3.3 -y\n",
    "#!mamba install requests==2.26.0 -y\n",
    "!mamba install bs4==4.10.0 -y\n",
    "!mamba install html5lib==1.1 -y"
   ]
  },
  {
   "cell_type": "markdown",
   "metadata": {},
   "source": [
    "## Imports\n",
    "\n",
    "Import any additional libraries you may need here.\n"
   ]
  },
  {
   "cell_type": "code",
   "execution_count": 2,
   "metadata": {},
   "outputs": [],
   "source": [
    "from bs4 import BeautifulSoup\n",
    "import html5lib\n",
    "import requests\n",
    "import pandas as pd"
   ]
  },
  {
   "cell_type": "markdown",
   "metadata": {},
   "source": [
    "## Extract Data Using Web Scraping\n"
   ]
  },
  {
   "cell_type": "markdown",
   "metadata": {},
   "source": [
    "The wikipedia webpage [https://en.wikipedia.org/wiki/List_of_largest_banks](https://en.wikipedia.org/wiki/List_of_largest_banks?utm_medium=Exinfluencer&utm_source=Exinfluencer&utm_content=000026UJ&utm_term=10006555&utm_id=NA-SkillsNetwork-Channel-SkillsNetworkCoursesIBMDeveloperSkillsNetworkPY0221ENSkillsNetwork23455645-2022-01-01) provides information about largest banks in the world by various parameters. Scrape the data from the table 'By market capitalization' and store it in a JSON file.\n"
   ]
  },
  {
   "cell_type": "markdown",
   "metadata": {},
   "source": [
    "### Webpage Contents\n",
    "\n",
    "Gather the contents of the webpage in text format using the `requests` library and assign it to the variable <code>html_data</code>\n"
   ]
  },
  {
   "cell_type": "code",
   "execution_count": 3,
   "metadata": {},
   "outputs": [],
   "source": [
    "#Write your code here\n",
    "\n",
    "url = \"https://en.wikipedia.org/wiki/List_of_largest_banks\"\n",
    "response = requests.get(url)\n",
    "html_data = response.content"
   ]
  },
  {
   "cell_type": "markdown",
   "metadata": {},
   "source": [
    "<b>Question 1</b> Print out the output of the following line, and remember it as it will be a quiz question:\n"
   ]
  },
  {
   "cell_type": "code",
   "execution_count": 4,
   "metadata": {},
   "outputs": [
    {
     "data": {
      "text/plain": [
       "b'List of largest banks -'"
      ]
     },
     "execution_count": 4,
     "metadata": {},
     "output_type": "execute_result"
    }
   ],
   "source": [
    "html_data[101:124]"
   ]
  },
  {
   "cell_type": "markdown",
   "metadata": {},
   "source": [
    "### Scraping the Data\n",
    "\n",
    "<b> Question 2</b> Using the contents and `beautiful soup` load the data from the `By market capitalization` table into a `pandas` dataframe. The dataframe should have the bank `Name` and `Market Cap (US$ Billion)` as column names.  Display the first five rows using head.\n"
   ]
  },
  {
   "cell_type": "markdown",
   "metadata": {},
   "source": [
    "Using BeautifulSoup parse the contents of the webpage.\n"
   ]
  },
  {
   "cell_type": "code",
   "execution_count": 5,
   "metadata": {},
   "outputs": [],
   "source": [
    "#Replace the dots below\n",
    "\n",
    "soup = BeautifulSoup(html_data, \"html5lib\")"
   ]
  },
  {
   "cell_type": "markdown",
   "metadata": {},
   "source": [
    "Load the data from the `By market capitalization` table into a pandas dataframe. The dataframe should have the bank `Name` and `Market Cap (US$ Billion)` as column names. Using the empty dataframe `data` and the given loop extract the necessary data from each row and append it to the empty dataframe.\n"
   ]
  },
  {
   "cell_type": "code",
   "execution_count": 118,
   "metadata": {},
   "outputs": [],
   "source": [
    "data = pd.DataFrame(columns=[\"Rank\",\"Name\", \"Market Cap (US$ Billion)\"])\n",
    "\n",
    "for row in soup.find_all('tbody')[3].find_all('tr'):\n",
    "    col = row.find_all('td')\n",
    "    #Write your code here\n",
    "    \n",
    "    if col:\n",
    "        rank = col[0].text.strip()\n",
    "        bank_name = col[1].find_all(\"a\")[1].text.strip()\n",
    "        market_cap = col[2].text.strip().replace(\"[6]\",\"\")\n",
    "        data = data.append({\"Rank\": rank,\n",
    "                            \"Name\": bank_name,\n",
    "                            \"Market Cap (US$ Billion)\": market_cap},\n",
    "                            ignore_index=True)"
   ]
  },
  {
   "cell_type": "markdown",
   "metadata": {},
   "source": [
    "**Question 3** Display the first five rows using the `head` function.\n"
   ]
  },
  {
   "cell_type": "code",
   "execution_count": 119,
   "metadata": {},
   "outputs": [
    {
     "data": {
      "text/html": [
       "<div>\n",
       "<style scoped>\n",
       "    .dataframe tbody tr th:only-of-type {\n",
       "        vertical-align: middle;\n",
       "    }\n",
       "\n",
       "    .dataframe tbody tr th {\n",
       "        vertical-align: top;\n",
       "    }\n",
       "\n",
       "    .dataframe thead th {\n",
       "        text-align: right;\n",
       "    }\n",
       "</style>\n",
       "<table border=\"1\" class=\"dataframe\">\n",
       "  <thead>\n",
       "    <tr style=\"text-align: right;\">\n",
       "      <th></th>\n",
       "      <th>Name</th>\n",
       "      <th>Market Cap (US$ Billion)</th>\n",
       "    </tr>\n",
       "    <tr>\n",
       "      <th>Rank</th>\n",
       "      <th></th>\n",
       "      <th></th>\n",
       "    </tr>\n",
       "  </thead>\n",
       "  <tbody>\n",
       "    <tr>\n",
       "      <th>1</th>\n",
       "      <td>JPMorgan Chase</td>\n",
       "      <td>400.37</td>\n",
       "    </tr>\n",
       "    <tr>\n",
       "      <th>2</th>\n",
       "      <td>Industrial and Commercial Bank of China</td>\n",
       "      <td>295.65</td>\n",
       "    </tr>\n",
       "    <tr>\n",
       "      <th>3</th>\n",
       "      <td>Bank of America</td>\n",
       "      <td>279.73</td>\n",
       "    </tr>\n",
       "    <tr>\n",
       "      <th>4</th>\n",
       "      <td>Wells Fargo</td>\n",
       "      <td>214.34</td>\n",
       "    </tr>\n",
       "    <tr>\n",
       "      <th>5</th>\n",
       "      <td>China Construction Bank</td>\n",
       "      <td>207.98</td>\n",
       "    </tr>\n",
       "  </tbody>\n",
       "</table>\n",
       "</div>"
      ],
      "text/plain": [
       "                                         Name Market Cap (US$ Billion)\n",
       "Rank                                                                  \n",
       "1                              JPMorgan Chase                   400.37\n",
       "2     Industrial and Commercial Bank of China                   295.65\n",
       "3                             Bank of America                   279.73\n",
       "4                                 Wells Fargo                   214.34\n",
       "5                     China Construction Bank                   207.98"
      ]
     },
     "execution_count": 119,
     "metadata": {},
     "output_type": "execute_result"
    }
   ],
   "source": [
    "#Write your code here\n",
    "data.set_index(\"Rank\").head()"
   ]
  },
  {
   "cell_type": "markdown",
   "metadata": {},
   "source": [
    "### Loading the Data\n",
    "\n",
    "Usually you will Load the `pandas` dataframe created above into a JSON named `bank_market_cap.json` using the `to_json()` function, but this time the data will be sent to another team who will split the data file into two files and inspect it. If you save the data it will interfere with the next part of the assignment.\n"
   ]
  },
  {
   "cell_type": "code",
   "execution_count": 53,
   "metadata": {},
   "outputs": [],
   "source": [
    "#Write your code here\n"
   ]
  },
  {
   "cell_type": "markdown",
   "metadata": {},
   "source": [
    "## Authors\n"
   ]
  },
  {
   "cell_type": "markdown",
   "metadata": {},
   "source": [
    "Ramesh Sannareddy, Joseph Santarcangelo and Azim Hirjani\n"
   ]
  },
  {
   "cell_type": "markdown",
   "metadata": {},
   "source": [
    "### Other Contributors\n"
   ]
  },
  {
   "cell_type": "markdown",
   "metadata": {},
   "source": [
    "Rav Ahuja\n"
   ]
  },
  {
   "cell_type": "markdown",
   "metadata": {},
   "source": [
    "## Change Log\n"
   ]
  },
  {
   "cell_type": "markdown",
   "metadata": {},
   "source": [
    "| Date (YYYY-MM-DD) | Version | Changed By          | Change Description                 |\n",
    "| ----------------- | ------- | ------------------- | ---------------------------------- |\n",
    "| 2022-07-12        | 0.2     | Appalabhaktula Hema | Corrected the code and markdown    |\n",
    "| 2020-11-25        | 0.1     | Ramesh Sannareddy   | Created initial version of the lab |\n"
   ]
  },
  {
   "cell_type": "markdown",
   "metadata": {},
   "source": [
    "Copyright © 2020 IBM Corporation.\n"
   ]
  }
 ],
 "metadata": {
  "kernelspec": {
   "display_name": "Python",
   "language": "python",
   "name": "conda-env-python-py"
  },
  "language_info": {
   "codemirror_mode": {
    "name": "ipython",
    "version": 3
   },
   "file_extension": ".py",
   "mimetype": "text/x-python",
   "name": "python",
   "nbconvert_exporter": "python",
   "pygments_lexer": "ipython3",
   "version": "3.7.12"
  }
 },
 "nbformat": 4,
 "nbformat_minor": 4
}
