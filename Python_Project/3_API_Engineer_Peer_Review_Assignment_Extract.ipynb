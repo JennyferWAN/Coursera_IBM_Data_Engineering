{
 "cells": [
  {
   "cell_type": "markdown",
   "metadata": {},
   "source": [
    "<p style=\"text-align:center\">\n",
    "    <a href=\"https://skills.network/?utm_medium=Exinfluencer&utm_source=Exinfluencer&utm_content=000026UJ&utm_term=10006555&utm_id=NA-SkillsNetwork-Channel-SkillsNetworkCoursesIBMDeveloperSkillsNetworkPY0221ENSkillsNetwork23455645-2022-01-01\" target=\"_blank\">\n",
    "    <img src=\"https://cf-courses-data.s3.us.cloud-object-storage.appdomain.cloud/assets/logos/SN_web_lightmode.png\" width=\"200\" alt=\"Skills Network Logo\"  />\n",
    "    </a>\n",
    "</p>\n"
   ]
  },
  {
   "cell_type": "markdown",
   "metadata": {},
   "source": [
    "# Peer Review Assignment - Data Engineer - Extract API Data\n"
   ]
  },
  {
   "cell_type": "markdown",
   "metadata": {},
   "source": [
    "Estimated time needed: **20** minutes\n"
   ]
  },
  {
   "cell_type": "markdown",
   "metadata": {},
   "source": [
    "## Objectives\n",
    "\n",
    "In this part you will:\n",
    "\n",
    "*   Collect exchange rate data using an API\n",
    "*   Store the data as a CSV\n"
   ]
  },
  {
   "cell_type": "markdown",
   "metadata": {},
   "source": [
    "For this lab, we are going to be using Python and several Python libraries. Some of these libraries might be installed in your lab environment or in SN Labs. Others may need to be installed by you. The cells below will install these libraries when executed.\n"
   ]
  },
  {
   "cell_type": "code",
   "execution_count": null,
   "metadata": {},
   "outputs": [],
   "source": [
    "#!mamba install pandas==1.3.3 -y\n",
    "#!mamba install requests==2.26.0 -y"
   ]
  },
  {
   "cell_type": "markdown",
   "metadata": {},
   "source": [
    "## Imports\n",
    "\n",
    "Import any additional libraries you may need here.\n"
   ]
  },
  {
   "cell_type": "code",
   "execution_count": 1,
   "metadata": {},
   "outputs": [],
   "source": [
    "import requests\n",
    "import pandas as pd"
   ]
  },
  {
   "cell_type": "markdown",
   "metadata": {},
   "source": [
    "## Extract Data Using an API\n"
   ]
  },
  {
   "cell_type": "markdown",
   "metadata": {},
   "source": [
    "Using ExchangeRate-API we will extract currency exchange rate data. Use the below steps to get the access key and to get the data.\n",
    "\n",
    "1.  Open the url : [https://exchangeratesapi.io/](https://exchangeratesapi.io/?utm_medium=Exinfluencer&utm_source=Exinfluencer&utm_content=000026UJ&utm_term=10006555&utm_id=NA-SkillsNetwork-Channel-SkillsNetworkCoursesIBMDeveloperSkillsNetworkPY0221ENSkillsNetwork23455645-2022-01-01) and click on **Get Free API Key**.\n",
    "2.  Subscribe for Free plan and Sign-in with the Google Account.\n",
    "3.  Once the account is created you will be redirected to [https://apilayer.com](https://apilayer.com/?utm_medium=Exinfluencer&utm_source=Exinfluencer&utm_content=000026UJ&utm_term=10006555&utm_id=NA-SkillsNetwork-Channel-SkillsNetworkCoursesIBMDeveloperSkillsNetworkPY0221ENSkillsNetwork23455645-2022-01-01) website.\n",
    "4.  Now, click on the **user icon** and click **Account** as shown below:\n",
    "\n",
    "<img src=\"https://cf-courses-data.s3.us.cloud-object-storage.appdomain.cloud/IBMDeveloperSkillsNetwork-PY0221EN-SkillsNetwork/labs/module%206/Final%20Assignment/Images/account.png\"/>\n",
    "\n",
    "3.  Scroll down and you will get the API Key section. Copy the API key and use in the url in Question 1.\n"
   ]
  },
  {
   "cell_type": "markdown",
   "metadata": {},
   "source": [
    "### Call the API\n",
    "\n",
    "<b> Question 1</b> Using the `requests` library call the endpoint given above and save the text, remember the first few characters of the output:\n"
   ]
  },
  {
   "cell_type": "code",
   "execution_count": 3,
   "metadata": {},
   "outputs": [
    {
     "data": {
      "text/plain": [
       "{'success': True,\n",
       " 'timestamp': 1657963683,\n",
       " 'base': 'EUR',\n",
       " 'date': '2022-07-16',\n",
       " 'rates': {'AED': 3.70504,\n",
       "  'AFN': 88.794292,\n",
       "  'ALL': 117.368213,\n",
       "  'AMD': 417.014897,\n",
       "  'ANG': 1.818505,\n",
       "  'AOA': 435.670337,\n",
       "  'ARS': 129.524587,\n",
       "  'AUD': 1.48614,\n",
       "  'AWG': 1.813128,\n",
       "  'AZN': 1.718785,\n",
       "  'BAM': 1.961985,\n",
       "  'BBD': 2.037392,\n",
       "  'BDT': 94.799811,\n",
       "  'BGN': 1.957583,\n",
       "  'BHD': 0.380751,\n",
       "  'BIF': 2077.347153,\n",
       "  'BMD': 1.008695,\n",
       "  'BND': 1.415231,\n",
       "  'BOB': 6.937164,\n",
       "  'BRL': 5.454822,\n",
       "  'BSD': 1.009066,\n",
       "  'BTC': 4.8956148e-05,\n",
       "  'BTN': 80.543585,\n",
       "  'BWP': 12.920062,\n",
       "  'BYN': 2.54689,\n",
       "  'BYR': 19770.412687,\n",
       "  'BZD': 2.033981,\n",
       "  'CAD': 1.314919,\n",
       "  'CDF': 2019.91474,\n",
       "  'CHF': 0.985381,\n",
       "  'CLF': 0.038411,\n",
       "  'CLP': 1059.886171,\n",
       "  'CNY': 6.816157,\n",
       "  'COP': 4442.139383,\n",
       "  'CRC': 689.162072,\n",
       "  'CUC': 1.008695,\n",
       "  'CUP': 26.730405,\n",
       "  'CVE': 110.612017,\n",
       "  'CZK': 24.502102,\n",
       "  'DJF': 179.265588,\n",
       "  'DKK': 7.442657,\n",
       "  'DOP': 55.083812,\n",
       "  'DZD': 148.641025,\n",
       "  'EGP': 19.070584,\n",
       "  'ERN': 15.130418,\n",
       "  'ETB': 52.666628,\n",
       "  'EUR': 1,\n",
       "  'FJD': 2.249641,\n",
       "  'FKP': 0.849661,\n",
       "  'GBP': 0.85086,\n",
       "  'GEL': 2.965956,\n",
       "  'GGP': 0.849661,\n",
       "  'GHS': 8.198521,\n",
       "  'GIP': 0.849661,\n",
       "  'GMD': 54.56068,\n",
       "  'GNF': 8752.960206,\n",
       "  'GTQ': 7.810002,\n",
       "  'GYD': 211.112312,\n",
       "  'HKD': 7.918156,\n",
       "  'HNL': 24.806825,\n",
       "  'HRK': 7.508323,\n",
       "  'HTG': 116.925825,\n",
       "  'HUF': 400.926204,\n",
       "  'IDR': 15126.736137,\n",
       "  'ILS': 3.494713,\n",
       "  'IMP': 0.849661,\n",
       "  'INR': 80.413838,\n",
       "  'IQD': 1472.795431,\n",
       "  'IRR': 42718.213482,\n",
       "  'ISK': 138.917799,\n",
       "  'JEP': 0.849661,\n",
       "  'JMD': 153.087137,\n",
       "  'JOD': 0.715204,\n",
       "  'JPY': 139.73597,\n",
       "  'KES': 119.278516,\n",
       "  'KGS': 81.673395,\n",
       "  'KHR': 4122.19799,\n",
       "  'KMF': 468.664733,\n",
       "  'KPW': 907.825064,\n",
       "  'KRW': 1330.468431,\n",
       "  'KWD': 0.310718,\n",
       "  'KYD': 0.840955,\n",
       "  'KZT': 486.416008,\n",
       "  'LAK': 15169.490453,\n",
       "  'LBP': 1525.686457,\n",
       "  'LKR': 363.280109,\n",
       "  'LRD': 153.829722,\n",
       "  'LSL': 15.978106,\n",
       "  'LTL': 2.978413,\n",
       "  'LVL': 0.61015,\n",
       "  'LYD': 4.917628,\n",
       "  'MAD': 10.533145,\n",
       "  'MDL': 19.49476,\n",
       "  'MGA': 4248.588877,\n",
       "  'MKD': 61.749342,\n",
       "  'MMK': 1868.368833,\n",
       "  'MNT': 3172.001316,\n",
       "  'MOP': 8.159123,\n",
       "  'MRO': 360.103772,\n",
       "  'MUR': 45.604006,\n",
       "  'MVR': 15.483843,\n",
       "  'MWK': 1035.690217,\n",
       "  'MXN': 20.711933,\n",
       "  'MYR': 4.487721,\n",
       "  'MZN': 64.385352,\n",
       "  'NAD': 15.978102,\n",
       "  'NGN': 419.015465,\n",
       "  'NIO': 36.179504,\n",
       "  'NOK': 10.260142,\n",
       "  'NPR': 128.877626,\n",
       "  'NZD': 1.635534,\n",
       "  'OMR': 0.388911,\n",
       "  'PAB': 1.009066,\n",
       "  'PEN': 3.940763,\n",
       "  'PGK': 3.601431,\n",
       "  'PHP': 56.779793,\n",
       "  'PKR': 212.670103,\n",
       "  'PLN': 4.781162,\n",
       "  'PYG': 6921.915766,\n",
       "  'QAR': 3.672696,\n",
       "  'RON': 4.939077,\n",
       "  'RSD': 117.464104,\n",
       "  'RUB': 57.495931,\n",
       "  'RWF': 1040.785201,\n",
       "  'SAR': 3.787587,\n",
       "  'SBD': 8.230916,\n",
       "  'SCR': 13.283731,\n",
       "  'SDG': 460.472761,\n",
       "  'SEK': 10.582117,\n",
       "  'SGD': 1.411734,\n",
       "  'SHP': 1.38938,\n",
       "  'SLL': 13284.507234,\n",
       "  'SOS': 589.585648,\n",
       "  'SRD': 22.703196,\n",
       "  'STD': 20877.940118,\n",
       "  'SVC': 8.829701,\n",
       "  'SYP': 2534.374683,\n",
       "  'SZL': 17.335887,\n",
       "  'THB': 36.930362,\n",
       "  'TJS': 10.393206,\n",
       "  'TMT': 3.540518,\n",
       "  'TND': 3.09014,\n",
       "  'TOP': 2.385613,\n",
       "  'TRY': 17.554958,\n",
       "  'TTD': 6.853802,\n",
       "  'TWD': 30.184213,\n",
       "  'TZS': 2352.27597,\n",
       "  'UAH': 29.815739,\n",
       "  'UGX': 3804.134513,\n",
       "  'USD': 1.008695,\n",
       "  'UYU': 41.462077,\n",
       "  'UZS': 11049.344533,\n",
       "  'VND': 23658.93008,\n",
       "  'VUV': 119.929769,\n",
       "  'WST': 2.744628,\n",
       "  'XAF': 658.034465,\n",
       "  'XAG': 0.053921,\n",
       "  'XAU': 0.000591,\n",
       "  'XCD': 2.726048,\n",
       "  'XDR': 0.771736,\n",
       "  'XOF': 658.021376,\n",
       "  'XPF': 114.134153,\n",
       "  'YER': 252.426172,\n",
       "  'ZAR': 17.240551,\n",
       "  'ZMK': 9079.464781,\n",
       "  'ZMW': 16.573595,\n",
       "  'ZWL': 324.799225}}"
      ]
     },
     "execution_count": 3,
     "metadata": {},
     "output_type": "execute_result"
    }
   ],
   "source": [
    "# Write your code here\n",
    "url = \"https://api.apilayer.com/exchangerates_data/latest?base=EUR&apikey=KvHqVdM8sXVZzmSErIyPy65ztYDTyloE\" #Make sure to change ******* to your API key.\n",
    "response = requests.get(url)\n",
    "response.json()"
   ]
  },
  {
   "cell_type": "markdown",
   "metadata": {},
   "source": [
    "### Save as DataFrame\n",
    "\n",
    "<b> Question 2</b>  Using the data gathered turn it into a `pandas` dataframe. The dataframe should have the Currency as the index and `Rate` as their columns. Make sure to drop unnecessary columns.\n"
   ]
  },
  {
   "cell_type": "code",
   "execution_count": 25,
   "metadata": {},
   "outputs": [
    {
     "data": {
      "text/html": [
       "<div>\n",
       "<style scoped>\n",
       "    .dataframe tbody tr th:only-of-type {\n",
       "        vertical-align: middle;\n",
       "    }\n",
       "\n",
       "    .dataframe tbody tr th {\n",
       "        vertical-align: top;\n",
       "    }\n",
       "\n",
       "    .dataframe thead th {\n",
       "        text-align: right;\n",
       "    }\n",
       "</style>\n",
       "<table border=\"1\" class=\"dataframe\">\n",
       "  <thead>\n",
       "    <tr style=\"text-align: right;\">\n",
       "      <th></th>\n",
       "      <th>success</th>\n",
       "      <th>timestamp</th>\n",
       "      <th>base</th>\n",
       "      <th>date</th>\n",
       "      <th>rates</th>\n",
       "    </tr>\n",
       "  </thead>\n",
       "  <tbody>\n",
       "    <tr>\n",
       "      <th>AED</th>\n",
       "      <td>True</td>\n",
       "      <td>1657963683</td>\n",
       "      <td>EUR</td>\n",
       "      <td>2022-07-16</td>\n",
       "      <td>3.705040</td>\n",
       "    </tr>\n",
       "    <tr>\n",
       "      <th>AFN</th>\n",
       "      <td>True</td>\n",
       "      <td>1657963683</td>\n",
       "      <td>EUR</td>\n",
       "      <td>2022-07-16</td>\n",
       "      <td>88.794292</td>\n",
       "    </tr>\n",
       "    <tr>\n",
       "      <th>ALL</th>\n",
       "      <td>True</td>\n",
       "      <td>1657963683</td>\n",
       "      <td>EUR</td>\n",
       "      <td>2022-07-16</td>\n",
       "      <td>117.368213</td>\n",
       "    </tr>\n",
       "    <tr>\n",
       "      <th>AMD</th>\n",
       "      <td>True</td>\n",
       "      <td>1657963683</td>\n",
       "      <td>EUR</td>\n",
       "      <td>2022-07-16</td>\n",
       "      <td>417.014897</td>\n",
       "    </tr>\n",
       "    <tr>\n",
       "      <th>ANG</th>\n",
       "      <td>True</td>\n",
       "      <td>1657963683</td>\n",
       "      <td>EUR</td>\n",
       "      <td>2022-07-16</td>\n",
       "      <td>1.818505</td>\n",
       "    </tr>\n",
       "  </tbody>\n",
       "</table>\n",
       "</div>"
      ],
      "text/plain": [
       "     success   timestamp base        date       rates\n",
       "AED     True  1657963683  EUR  2022-07-16    3.705040\n",
       "AFN     True  1657963683  EUR  2022-07-16   88.794292\n",
       "ALL     True  1657963683  EUR  2022-07-16  117.368213\n",
       "AMD     True  1657963683  EUR  2022-07-16  417.014897\n",
       "ANG     True  1657963683  EUR  2022-07-16    1.818505"
      ]
     },
     "execution_count": 25,
     "metadata": {},
     "output_type": "execute_result"
    }
   ],
   "source": [
    "# Turn the data into a dataframe\n",
    "df = pd.DataFrame(response.json())\n",
    "df.head()"
   ]
  },
  {
   "cell_type": "code",
   "execution_count": 26,
   "metadata": {},
   "outputs": [
    {
     "data": {
      "text/html": [
       "<div>\n",
       "<style scoped>\n",
       "    .dataframe tbody tr th:only-of-type {\n",
       "        vertical-align: middle;\n",
       "    }\n",
       "\n",
       "    .dataframe tbody tr th {\n",
       "        vertical-align: top;\n",
       "    }\n",
       "\n",
       "    .dataframe thead th {\n",
       "        text-align: right;\n",
       "    }\n",
       "</style>\n",
       "<table border=\"1\" class=\"dataframe\">\n",
       "  <thead>\n",
       "    <tr style=\"text-align: right;\">\n",
       "      <th></th>\n",
       "      <th>rates</th>\n",
       "    </tr>\n",
       "  </thead>\n",
       "  <tbody>\n",
       "    <tr>\n",
       "      <th>AED</th>\n",
       "      <td>3.705040</td>\n",
       "    </tr>\n",
       "    <tr>\n",
       "      <th>AFN</th>\n",
       "      <td>88.794292</td>\n",
       "    </tr>\n",
       "    <tr>\n",
       "      <th>ALL</th>\n",
       "      <td>117.368213</td>\n",
       "    </tr>\n",
       "    <tr>\n",
       "      <th>AMD</th>\n",
       "      <td>417.014897</td>\n",
       "    </tr>\n",
       "    <tr>\n",
       "      <th>ANG</th>\n",
       "      <td>1.818505</td>\n",
       "    </tr>\n",
       "  </tbody>\n",
       "</table>\n",
       "</div>"
      ],
      "text/plain": [
       "          rates\n",
       "AED    3.705040\n",
       "AFN   88.794292\n",
       "ALL  117.368213\n",
       "AMD  417.014897\n",
       "ANG    1.818505"
      ]
     },
     "execution_count": 26,
     "metadata": {},
     "output_type": "execute_result"
    }
   ],
   "source": [
    "# Drop unnescessary columns\n",
    "df.drop(columns=[\"success\", \"timestamp\", \"base\", \"date\"], inplace=True)\n",
    "df.head()"
   ]
  },
  {
   "cell_type": "markdown",
   "metadata": {},
   "source": [
    "### Load the Data\n",
    "\n",
    "Using the dataframe save it as a CSV names `exchange_rates_1.csv`.\n"
   ]
  },
  {
   "cell_type": "code",
   "execution_count": 28,
   "metadata": {},
   "outputs": [],
   "source": [
    "# Save the Dataframe\n",
    "df.to_csv('exchange_rates_1.csv')"
   ]
  },
  {
   "cell_type": "markdown",
   "metadata": {},
   "source": [
    "Your CSV should be in this format with more currencies\n",
    "\n",
    "|     | Rates      |\n",
    "| --- | ---------- |\n",
    "| AED | 4.398618   |\n",
    "| AFN | 92.917693  |\n",
    "| ALL | 123.099093 |\n",
    "| AMD | 621.935674 |\n",
    "| ANG | 2.149648   |\n"
   ]
  },
  {
   "cell_type": "markdown",
   "metadata": {},
   "source": [
    "## Authors\n"
   ]
  },
  {
   "cell_type": "markdown",
   "metadata": {},
   "source": [
    "Ramesh Sannareddy, Joseph Santarcangelo and Azim Hirjani\n"
   ]
  },
  {
   "cell_type": "markdown",
   "metadata": {},
   "source": [
    "### Other Contributors\n"
   ]
  },
  {
   "cell_type": "markdown",
   "metadata": {},
   "source": [
    "Rav Ahuja\n"
   ]
  },
  {
   "cell_type": "markdown",
   "metadata": {},
   "source": [
    "## Change Log\n"
   ]
  },
  {
   "cell_type": "markdown",
   "metadata": {},
   "source": [
    "| Date (YYYY-MM-DD) | Version | Changed By        | Change Description                              |\n",
    "| ----------------- | ------- | ----------------- | ----------------------------------------------- |\n",
    "| 2022-05-06        | 0.3     | Malika            | Updated instructions to get the API and the url |\n",
    "| 2021-04-15        | 0.2     | Malika            | Updated the lab from USD to EUR                 |\n",
    "| 2020-11-25        | 0.1     | Ramesh Sannareddy | Created initial version of the lab              |\n"
   ]
  },
  {
   "cell_type": "markdown",
   "metadata": {},
   "source": [
    "Copyright © 2020 IBM Corporation. This notebook and its source code are released under the terms of the [MIT License](https://cognitiveclass.ai/mit-license?utm_medium=Exinfluencer&utm_source=Exinfluencer&utm_content=000026UJ&utm_term=10006555&utm_id=NA-SkillsNetwork-Channel-SkillsNetworkCoursesIBMDeveloperSkillsNetworkPY0221ENSkillsNetwork23455645-2022-01-01&cm_mmc=Email_Newsletter-\\_-Developer_Ed%2BTech-\\_-WW_WW-\\_-SkillsNetwork-Courses-IBM-DA0321EN-SkillsNetwork-21426264&cm_mmca1=000026UJ&cm_mmca2=10006555&cm_mmca3=M12345678&cvosrc=email.Newsletter.M12345678&cvo_campaign=000026UJ).\n"
   ]
  }
 ],
 "metadata": {
  "kernelspec": {
   "display_name": "Python",
   "language": "python",
   "name": "conda-env-python-py"
  },
  "language_info": {
   "codemirror_mode": {
    "name": "ipython",
    "version": 3
   },
   "file_extension": ".py",
   "mimetype": "text/x-python",
   "name": "python",
   "nbconvert_exporter": "python",
   "pygments_lexer": "ipython3",
   "version": "3.7.12"
  }
 },
 "nbformat": 4,
 "nbformat_minor": 4
}
